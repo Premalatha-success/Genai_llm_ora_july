{
  "nbformat": 4,
  "nbformat_minor": 0,
  "metadata": {
    "colab": {
      "provenance": []
    },
    "kernelspec": {
      "name": "python3",
      "display_name": "Python 3"
    },
    "language_info": {
      "name": "python"
    }
  },
  "cells": [
    {
      "cell_type": "code",
      "execution_count": 1,
      "metadata": {
        "id": "JuBZGMJRuZ2u"
      },
      "outputs": [],
      "source": [
        "import numpy as np\n",
        "import matplotlib.pyplot as plt\n",
        "from tensorflow.keras.datasets import fashion_mnist"
      ]
    },
    {
      "cell_type": "code",
      "source": [
        "(x_train,y_train),(x_test,y_test)=fashion_mnist.load_data()"
      ],
      "metadata": {
        "id": "UvGxiwA-vSYo"
      },
      "execution_count": 2,
      "outputs": []
    },
    {
      "cell_type": "code",
      "source": [
        "x_train.shape"
      ],
      "metadata": {
        "colab": {
          "base_uri": "https://localhost:8080/"
        },
        "id": "gt3YPS3NvpCs",
        "outputId": "b1733b97-3f02-4f7f-faa9-458048cb1ed5"
      },
      "execution_count": 3,
      "outputs": [
        {
          "output_type": "execute_result",
          "data": {
            "text/plain": [
              "(60000, 28, 28)"
            ]
          },
          "metadata": {},
          "execution_count": 3
        }
      ]
    },
    {
      "cell_type": "code",
      "source": [
        "x_test.shape"
      ],
      "metadata": {
        "colab": {
          "base_uri": "https://localhost:8080/"
        },
        "id": "gF3L-8uFv8a2",
        "outputId": "9b438924-44f0-46dc-fa1b-17b04950cd60"
      },
      "execution_count": 4,
      "outputs": [
        {
          "output_type": "execute_result",
          "data": {
            "text/plain": [
              "(10000, 28, 28)"
            ]
          },
          "metadata": {},
          "execution_count": 4
        }
      ]
    },
    {
      "cell_type": "code",
      "source": [
        "x_train[0]"
      ],
      "metadata": {
        "colab": {
          "base_uri": "https://localhost:8080/",
          "height": 68
        },
        "id": "V_asDcgYwAEC",
        "outputId": "1ffd83a8-da71-45bc-f830-23cd2f76e3f4"
      },
      "execution_count": 5,
      "outputs": [
        {
          "output_type": "execute_result",
          "data": {
            "text/plain": [
              "array([[  0,   0,   0,   0,   0,   0,   0,   0,   0,   0,   0,   0,   0,\n",
              "          0,   0,   0,   0,   0,   0,   0,   0,   0,   0,   0,   0,   0,\n",
              "          0,   0],\n",
              "       [  0,   0,   0,   0,   0,   0,   0,   0,   0,   0,   0,   0,   0,\n",
              "          0,   0,   0,   0,   0,   0,   0,   0,   0,   0,   0,   0,   0,\n",
              "          0,   0],\n",
              "       [  0,   0,   0,   0,   0,   0,   0,   0,   0,   0,   0,   0,   0,\n",
              "          0,   0,   0,   0,   0,   0,   0,   0,   0,   0,   0,   0,   0,\n",
              "          0,   0],\n",
              "       [  0,   0,   0,   0,   0,   0,   0,   0,   0,   0,   0,   0,   1,\n",
              "          0,   0,  13,  73,   0,   0,   1,   4,   0,   0,   0,   0,   1,\n",
              "          1,   0],\n",
              "       [  0,   0,   0,   0,   0,   0,   0,   0,   0,   0,   0,   0,   3,\n",
              "          0,  36, 136, 127,  62,  54,   0,   0,   0,   1,   3,   4,   0,\n",
              "          0,   3],\n",
              "       [  0,   0,   0,   0,   0,   0,   0,   0,   0,   0,   0,   0,   6,\n",
              "          0, 102, 204, 176, 134, 144, 123,  23,   0,   0,   0,   0,  12,\n",
              "         10,   0],\n",
              "       [  0,   0,   0,   0,   0,   0,   0,   0,   0,   0,   0,   0,   0,\n",
              "          0, 155, 236, 207, 178, 107, 156, 161, 109,  64,  23,  77, 130,\n",
              "         72,  15],\n",
              "       [  0,   0,   0,   0,   0,   0,   0,   0,   0,   0,   0,   1,   0,\n",
              "         69, 207, 223, 218, 216, 216, 163, 127, 121, 122, 146, 141,  88,\n",
              "        172,  66],\n",
              "       [  0,   0,   0,   0,   0,   0,   0,   0,   0,   1,   1,   1,   0,\n",
              "        200, 232, 232, 233, 229, 223, 223, 215, 213, 164, 127, 123, 196,\n",
              "        229,   0],\n",
              "       [  0,   0,   0,   0,   0,   0,   0,   0,   0,   0,   0,   0,   0,\n",
              "        183, 225, 216, 223, 228, 235, 227, 224, 222, 224, 221, 223, 245,\n",
              "        173,   0],\n",
              "       [  0,   0,   0,   0,   0,   0,   0,   0,   0,   0,   0,   0,   0,\n",
              "        193, 228, 218, 213, 198, 180, 212, 210, 211, 213, 223, 220, 243,\n",
              "        202,   0],\n",
              "       [  0,   0,   0,   0,   0,   0,   0,   0,   0,   1,   3,   0,  12,\n",
              "        219, 220, 212, 218, 192, 169, 227, 208, 218, 224, 212, 226, 197,\n",
              "        209,  52],\n",
              "       [  0,   0,   0,   0,   0,   0,   0,   0,   0,   0,   6,   0,  99,\n",
              "        244, 222, 220, 218, 203, 198, 221, 215, 213, 222, 220, 245, 119,\n",
              "        167,  56],\n",
              "       [  0,   0,   0,   0,   0,   0,   0,   0,   0,   4,   0,   0,  55,\n",
              "        236, 228, 230, 228, 240, 232, 213, 218, 223, 234, 217, 217, 209,\n",
              "         92,   0],\n",
              "       [  0,   0,   1,   4,   6,   7,   2,   0,   0,   0,   0,   0, 237,\n",
              "        226, 217, 223, 222, 219, 222, 221, 216, 223, 229, 215, 218, 255,\n",
              "         77,   0],\n",
              "       [  0,   3,   0,   0,   0,   0,   0,   0,   0,  62, 145, 204, 228,\n",
              "        207, 213, 221, 218, 208, 211, 218, 224, 223, 219, 215, 224, 244,\n",
              "        159,   0],\n",
              "       [  0,   0,   0,   0,  18,  44,  82, 107, 189, 228, 220, 222, 217,\n",
              "        226, 200, 205, 211, 230, 224, 234, 176, 188, 250, 248, 233, 238,\n",
              "        215,   0],\n",
              "       [  0,  57, 187, 208, 224, 221, 224, 208, 204, 214, 208, 209, 200,\n",
              "        159, 245, 193, 206, 223, 255, 255, 221, 234, 221, 211, 220, 232,\n",
              "        246,   0],\n",
              "       [  3, 202, 228, 224, 221, 211, 211, 214, 205, 205, 205, 220, 240,\n",
              "         80, 150, 255, 229, 221, 188, 154, 191, 210, 204, 209, 222, 228,\n",
              "        225,   0],\n",
              "       [ 98, 233, 198, 210, 222, 229, 229, 234, 249, 220, 194, 215, 217,\n",
              "        241,  65,  73, 106, 117, 168, 219, 221, 215, 217, 223, 223, 224,\n",
              "        229,  29],\n",
              "       [ 75, 204, 212, 204, 193, 205, 211, 225, 216, 185, 197, 206, 198,\n",
              "        213, 240, 195, 227, 245, 239, 223, 218, 212, 209, 222, 220, 221,\n",
              "        230,  67],\n",
              "       [ 48, 203, 183, 194, 213, 197, 185, 190, 194, 192, 202, 214, 219,\n",
              "        221, 220, 236, 225, 216, 199, 206, 186, 181, 177, 172, 181, 205,\n",
              "        206, 115],\n",
              "       [  0, 122, 219, 193, 179, 171, 183, 196, 204, 210, 213, 207, 211,\n",
              "        210, 200, 196, 194, 191, 195, 191, 198, 192, 176, 156, 167, 177,\n",
              "        210,  92],\n",
              "       [  0,   0,  74, 189, 212, 191, 175, 172, 175, 181, 185, 188, 189,\n",
              "        188, 193, 198, 204, 209, 210, 210, 211, 188, 188, 194, 192, 216,\n",
              "        170,   0],\n",
              "       [  2,   0,   0,   0,  66, 200, 222, 237, 239, 242, 246, 243, 244,\n",
              "        221, 220, 193, 191, 179, 182, 182, 181, 176, 166, 168,  99,  58,\n",
              "          0,   0],\n",
              "       [  0,   0,   0,   0,   0,   0,   0,  40,  61,  44,  72,  41,  35,\n",
              "          0,   0,   0,   0,   0,   0,   0,   0,   0,   0,   0,   0,   0,\n",
              "          0,   0],\n",
              "       [  0,   0,   0,   0,   0,   0,   0,   0,   0,   0,   0,   0,   0,\n",
              "          0,   0,   0,   0,   0,   0,   0,   0,   0,   0,   0,   0,   0,\n",
              "          0,   0],\n",
              "       [  0,   0,   0,   0,   0,   0,   0,   0,   0,   0,   0,   0,   0,\n",
              "          0,   0,   0,   0,   0,   0,   0,   0,   0,   0,   0,   0,   0,\n",
              "          0,   0]], dtype=uint8)"
            ],
            "text/html": [
              "<style>\n",
              "      .ndarray_repr .ndarray_raw_data {\n",
              "        display: none;\n",
              "      }\n",
              "      .ndarray_repr.show_array .ndarray_raw_data {\n",
              "        display: block;\n",
              "      }\n",
              "      .ndarray_repr.show_array .ndarray_image_preview {\n",
              "        display: none;\n",
              "      }\n",
              "      </style>\n",
              "      <div id=\"id-357798b9-49b6-423d-820e-fb82e1156424\" class=\"ndarray_repr\"><pre>ndarray (28, 28) <button style=\"padding: 0 2px;\">show data</button></pre><img src=\"data:image/png;base64,iVBORw0KGgoAAAANSUhEUgAAABwAAAAcCAAAAABXZoBIAAACBUlEQVR4nLXSz0tUURQH8O+597373rx545g6NmNJY6TlJgozEsKFZGCrkDBoVdGmdf9BiwJ3bVr1PwhBUbQfJQcKjWZRTsjo0KDpDPV+eN+997WK0Z2bvtsPfM+Bc4D/HwJycwBZAEAE6zAyfe5RFMQfFYiRAj+CXM/c2HK82VetVMM34RGUmCxz9v7yYnW9dnWyskyHR6azi72Jwep3ScVk9c7LLhKQrpRBSiI2n76puZFT3doUwH4pcmw/zpjrU2zw3dFt4XEWdvbKhpinzTBYt5bDH4qlLYO8cbKBWHOudDHluFtiLrLD0kmM2//6q9VFS+JLLDxv9GzMPV9v3XuzYgHEGSUGCngbRCLd4W6CxPCLHTDwVMkDA0y/qEa/lFFBoF2EEME8CAD6hsZK8+djlmSatuiXXsWfNh27NU6Yelro1bytPElRbaGaO1FGPfc7zPg9HvHlIaVD8AjID9y/+bgZ/6iP9ks7J/QZevh8w/cd2PlGs8CKt92R7MQEk0yA7GtWq9ETN3zRs7fpR7FaWi/3yXaipW1IjFnbaSM70N7dsRzbzbHd8aCx7+wmKskUO5esz0sPmvXYF67gBzoNfxptxb5stxM10iLg1pOTO23NhcUptW1hE6gFYYprC8QMMPNsMM+4pamVbps/HGkSsg+1Cv4d+0Jh//Sm3DjGix4rfwFoJNh2/0cDFgAAAABJRU5ErkJggg==\" class=\"ndarray_image_preview\" /><pre class=\"ndarray_raw_data\">array([[  0,   0,   0,   0,   0,   0,   0,   0,   0,   0,   0,   0,   0,\n",
              "          0,   0,   0,   0,   0,   0,   0,   0,   0,   0,   0,   0,   0,\n",
              "          0,   0],\n",
              "       [  0,   0,   0,   0,   0,   0,   0,   0,   0,   0,   0,   0,   0,\n",
              "          0,   0,   0,   0,   0,   0,   0,   0,   0,   0,   0,   0,   0,\n",
              "          0,   0],\n",
              "       [  0,   0,   0,   0,   0,   0,   0,   0,   0,   0,   0,   0,   0,\n",
              "          0,   0,   0,   0,   0,   0,   0,   0,   0,   0,   0,   0,   0,\n",
              "          0,   0],\n",
              "       [  0,   0,   0,   0,   0,   0,   0,   0,   0,   0,   0,   0,   1,\n",
              "          0,   0,  13,  73,   0,   0,   1,   4,   0,   0,   0,   0,   1,\n",
              "          1,   0],\n",
              "       [  0,   0,   0,   0,   0,   0,   0,   0,   0,   0,   0,   0,   3,\n",
              "          0,  36, 136, 127,  62,  54,   0,   0,   0,   1,   3,   4,   0,\n",
              "          0,   3],\n",
              "       [  0,   0,   0,   0,   0,   0,   0,   0,   0,   0,   0,   0,   6,\n",
              "          0, 102, 204, 176, 134, 144, 123,  23,   0,   0,   0,   0,  12,\n",
              "         10,   0],\n",
              "       [  0,   0,   0,   0,   0,   0,   0,   0,   0,   0,   0,   0,   0,\n",
              "          0, 155, 236, 207, 178, 107, 156, 161, 109,  64,  23,  77, 130,\n",
              "         72,  15],\n",
              "       [  0,   0,   0,   0,   0,   0,   0,   0,   0,   0,   0,   1,   0,\n",
              "         69, 207, 223, 218, 216, 216, 163, 127, 121, 122, 146, 141,  88,\n",
              "        172,  66],\n",
              "       [  0,   0,   0,   0,   0,   0,   0,   0,   0,   1,   1,   1,   0,\n",
              "        200, 232, 232, 233, 229, 223, 223, 215, 213, 164, 127, 123, 196,\n",
              "        229,   0],\n",
              "       [  0,   0,   0,   0,   0,   0,   0,   0,   0,   0,   0,   0,   0,\n",
              "        183, 225, 216, 223, 228, 235, 227, 224, 222, 224, 221, 223, 245,\n",
              "        173,   0],\n",
              "       [  0,   0,   0,   0,   0,   0,   0,   0,   0,   0,   0,   0,   0,\n",
              "        193, 228, 218, 213, 198, 180, 212, 210, 211, 213, 223, 220, 243,\n",
              "        202,   0],\n",
              "       [  0,   0,   0,   0,   0,   0,   0,   0,   0,   1,   3,   0,  12,\n",
              "        219, 220, 212, 218, 192, 169, 227, 208, 218, 224, 212, 226, 197,\n",
              "        209,  52],\n",
              "       [  0,   0,   0,   0,   0,   0,   0,   0,   0,   0,   6,   0,  99,\n",
              "        244, 222, 220, 218, 203, 198, 221, 215, 213, 222, 220, 245, 119,\n",
              "        167,  56],\n",
              "       [  0,   0,   0,   0,   0,   0,   0,   0,   0,   4,   0,   0,  55,\n",
              "        236, 228, 230, 228, 240, 232, 213, 218, 223, 234, 217, 217, 209,\n",
              "         92,   0],\n",
              "       [  0,   0,   1,   4,   6,   7,   2,   0,   0,   0,   0,   0, 237,\n",
              "        226, 217, 223, 222, 219, 222, 221, 216, 223, 229, 215, 218, 255,\n",
              "         77,   0],\n",
              "       [  0,   3,   0,   0,   0,   0,   0,   0,   0,  62, 145, 204, 228,\n",
              "        207, 213, 221, 218, 208, 211, 218, 224, 223, 219, 215, 224, 244,\n",
              "        159,   0],\n",
              "       [  0,   0,   0,   0,  18,  44,  82, 107, 189, 228, 220, 222, 217,\n",
              "        226, 200, 205, 211, 230, 224, 234, 176, 188, 250, 248, 233, 238,\n",
              "        215,   0],\n",
              "       [  0,  57, 187, 208, 224, 221, 224, 208, 204, 214, 208, 209, 200,\n",
              "        159, 245, 193, 206, 223, 255, 255, 221, 234, 221, 211, 220, 232,\n",
              "        246,   0],\n",
              "       [  3, 202, 228, 224, 221, 211, 211, 214, 205, 205, 205, 220, 240,\n",
              "         80, 150, 255, 229, 221, 188, 154, 191, 210, 204, 209, 222, 228,\n",
              "        225,   0],\n",
              "       [ 98, 233, 198, 210, 222, 229, 229, 234, 249, 220, 194, 215, 217,\n",
              "        241,  65,  73, 106, 117, 168, 219, 221, 215, 217, 223, 223, 224,\n",
              "        229,  29],\n",
              "       [ 75, 204, 212, 204, 193, 205, 211, 225, 216, 185, 197, 206, 198,\n",
              "        213, 240, 195, 227, 245, 239, 223, 218, 212, 209, 222, 220, 221,\n",
              "        230,  67],\n",
              "       [ 48, 203, 183, 194, 213, 197, 185, 190, 194, 192, 202, 214, 219,\n",
              "        221, 220, 236, 225, 216, 199, 206, 186, 181, 177, 172, 181, 205,\n",
              "        206, 115],\n",
              "       [  0, 122, 219, 193, 179, 171, 183, 196, 204, 210, 213, 207, 211,\n",
              "        210, 200, 196, 194, 191, 195, 191, 198, 192, 176, 156, 167, 177,\n",
              "        210,  92],\n",
              "       [  0,   0,  74, 189, 212, 191, 175, 172, 175, 181, 185, 188, 189,\n",
              "        188, 193, 198, 204, 209, 210, 210, 211, 188, 188, 194, 192, 216,\n",
              "        170,   0],\n",
              "       [  2,   0,   0,   0,  66, 200, 222, 237, 239, 242, 246, 243, 244,\n",
              "        221, 220, 193, 191, 179, 182, 182, 181, 176, 166, 168,  99,  58,\n",
              "          0,   0],\n",
              "       [  0,   0,   0,   0,   0,   0,   0,  40,  61,  44,  72,  41,  35,\n",
              "          0,   0,   0,   0,   0,   0,   0,   0,   0,   0,   0,   0,   0,\n",
              "          0,   0],\n",
              "       [  0,   0,   0,   0,   0,   0,   0,   0,   0,   0,   0,   0,   0,\n",
              "          0,   0,   0,   0,   0,   0,   0,   0,   0,   0,   0,   0,   0,\n",
              "          0,   0],\n",
              "       [  0,   0,   0,   0,   0,   0,   0,   0,   0,   0,   0,   0,   0,\n",
              "          0,   0,   0,   0,   0,   0,   0,   0,   0,   0,   0,   0,   0,\n",
              "          0,   0]], dtype=uint8)</pre></div><script>\n",
              "      (() => {\n",
              "      const titles = ['show data', 'hide data'];\n",
              "      let index = 0\n",
              "      document.querySelector('#id-357798b9-49b6-423d-820e-fb82e1156424 button').onclick = (e) => {\n",
              "        document.querySelector('#id-357798b9-49b6-423d-820e-fb82e1156424').classList.toggle('show_array');\n",
              "        index = (++index) % 2;\n",
              "        document.querySelector('#id-357798b9-49b6-423d-820e-fb82e1156424 button').textContent = titles[index];\n",
              "        e.preventDefault();\n",
              "        e.stopPropagation();\n",
              "      }\n",
              "      })();\n",
              "    </script>"
            ]
          },
          "metadata": {},
          "execution_count": 5
        }
      ]
    },
    {
      "cell_type": "markdown",
      "source": [
        "![image.png](data:image/png;base64,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)"
      ],
      "metadata": {
        "id": "kfjpvWE6xII2"
      }
    },
    {
      "cell_type": "code",
      "source": [
        "y_train[0]"
      ],
      "metadata": {
        "colab": {
          "base_uri": "https://localhost:8080/"
        },
        "id": "o3DngO4lwK0A",
        "outputId": "3a55ec44-d187-4c18-89db-517ad699e31d"
      },
      "execution_count": 6,
      "outputs": [
        {
          "output_type": "execute_result",
          "data": {
            "text/plain": [
              "np.uint8(9)"
            ]
          },
          "metadata": {},
          "execution_count": 6
        }
      ]
    },
    {
      "cell_type": "code",
      "source": [
        "from tensorflow.keras.models import Sequential #name of the model-Sequential\n",
        "from tensorflow.keras.layers import Dense, Dropout, Activation, Flatten"
      ],
      "metadata": {
        "id": "82zUZN-3xDAH"
      },
      "execution_count": 7,
      "outputs": []
    },
    {
      "cell_type": "code",
      "source": [
        "x_train=x_train/255\n",
        "x_test=x_test/255"
      ],
      "metadata": {
        "id": "fePvDbTK2jgh"
      },
      "execution_count": 8,
      "outputs": []
    },
    {
      "cell_type": "code",
      "source": [
        "model=Sequential()"
      ],
      "metadata": {
        "id": "AtXfWAxCyYEo"
      },
      "execution_count": 9,
      "outputs": []
    },
    {
      "cell_type": "code",
      "source": [
        "model.add(Flatten(input_shape=[28,28]))\n",
        "model.add(Dense(200,activation=\"relu\"))\n",
        "model.add(Dense(200,activation=\"relu\"))\n",
        "model.add(Dense(10,activation=\"softmax\"))"
      ],
      "metadata": {
        "colab": {
          "base_uri": "https://localhost:8080/"
        },
        "id": "EkG_NA1zydmd",
        "outputId": "9e583934-fc19-41b7-c25d-7fe64640a028"
      },
      "execution_count": 10,
      "outputs": [
        {
          "output_type": "stream",
          "name": "stderr",
          "text": [
            "/usr/local/lib/python3.11/dist-packages/keras/src/layers/reshaping/flatten.py:37: UserWarning: Do not pass an `input_shape`/`input_dim` argument to a layer. When using Sequential models, prefer using an `Input(shape)` object as the first layer in the model instead.\n",
            "  super().__init__(**kwargs)\n"
          ]
        }
      ]
    },
    {
      "cell_type": "code",
      "source": [
        "model.summary()"
      ],
      "metadata": {
        "colab": {
          "base_uri": "https://localhost:8080/",
          "height": 232
        },
        "id": "-OG2o_Oay2aR",
        "outputId": "b22110a0-8703-4226-c409-7cda0b9e5b7d"
      },
      "execution_count": 11,
      "outputs": [
        {
          "output_type": "display_data",
          "data": {
            "text/plain": [
              "\u001b[1mModel: \"sequential\"\u001b[0m\n"
            ],
            "text/html": [
              "<pre style=\"white-space:pre;overflow-x:auto;line-height:normal;font-family:Menlo,'DejaVu Sans Mono',consolas,'Courier New',monospace\"><span style=\"font-weight: bold\">Model: \"sequential\"</span>\n",
              "</pre>\n"
            ]
          },
          "metadata": {}
        },
        {
          "output_type": "display_data",
          "data": {
            "text/plain": [
              "┏━━━━━━━━━━━━━━━━━━━━━━━━━━━━━━━━━┳━━━━━━━━━━━━━━━━━━━━━━━━┳━━━━━━━━━━━━━━━┓\n",
              "┃\u001b[1m \u001b[0m\u001b[1mLayer (type)                   \u001b[0m\u001b[1m \u001b[0m┃\u001b[1m \u001b[0m\u001b[1mOutput Shape          \u001b[0m\u001b[1m \u001b[0m┃\u001b[1m \u001b[0m\u001b[1m      Param #\u001b[0m\u001b[1m \u001b[0m┃\n",
              "┡━━━━━━━━━━━━━━━━━━━━━━━━━━━━━━━━━╇━━━━━━━━━━━━━━━━━━━━━━━━╇━━━━━━━━━━━━━━━┩\n",
              "│ flatten (\u001b[38;5;33mFlatten\u001b[0m)               │ (\u001b[38;5;45mNone\u001b[0m, \u001b[38;5;34m784\u001b[0m)            │             \u001b[38;5;34m0\u001b[0m │\n",
              "├─────────────────────────────────┼────────────────────────┼───────────────┤\n",
              "│ dense (\u001b[38;5;33mDense\u001b[0m)                   │ (\u001b[38;5;45mNone\u001b[0m, \u001b[38;5;34m200\u001b[0m)            │       \u001b[38;5;34m157,000\u001b[0m │\n",
              "├─────────────────────────────────┼────────────────────────┼───────────────┤\n",
              "│ dense_1 (\u001b[38;5;33mDense\u001b[0m)                 │ (\u001b[38;5;45mNone\u001b[0m, \u001b[38;5;34m10\u001b[0m)             │         \u001b[38;5;34m2,010\u001b[0m │\n",
              "└─────────────────────────────────┴────────────────────────┴───────────────┘\n"
            ],
            "text/html": [
              "<pre style=\"white-space:pre;overflow-x:auto;line-height:normal;font-family:Menlo,'DejaVu Sans Mono',consolas,'Courier New',monospace\">┏━━━━━━━━━━━━━━━━━━━━━━━━━━━━━━━━━┳━━━━━━━━━━━━━━━━━━━━━━━━┳━━━━━━━━━━━━━━━┓\n",
              "┃<span style=\"font-weight: bold\"> Layer (type)                    </span>┃<span style=\"font-weight: bold\"> Output Shape           </span>┃<span style=\"font-weight: bold\">       Param # </span>┃\n",
              "┡━━━━━━━━━━━━━━━━━━━━━━━━━━━━━━━━━╇━━━━━━━━━━━━━━━━━━━━━━━━╇━━━━━━━━━━━━━━━┩\n",
              "│ flatten (<span style=\"color: #0087ff; text-decoration-color: #0087ff\">Flatten</span>)               │ (<span style=\"color: #00d7ff; text-decoration-color: #00d7ff\">None</span>, <span style=\"color: #00af00; text-decoration-color: #00af00\">784</span>)            │             <span style=\"color: #00af00; text-decoration-color: #00af00\">0</span> │\n",
              "├─────────────────────────────────┼────────────────────────┼───────────────┤\n",
              "│ dense (<span style=\"color: #0087ff; text-decoration-color: #0087ff\">Dense</span>)                   │ (<span style=\"color: #00d7ff; text-decoration-color: #00d7ff\">None</span>, <span style=\"color: #00af00; text-decoration-color: #00af00\">200</span>)            │       <span style=\"color: #00af00; text-decoration-color: #00af00\">157,000</span> │\n",
              "├─────────────────────────────────┼────────────────────────┼───────────────┤\n",
              "│ dense_1 (<span style=\"color: #0087ff; text-decoration-color: #0087ff\">Dense</span>)                 │ (<span style=\"color: #00d7ff; text-decoration-color: #00d7ff\">None</span>, <span style=\"color: #00af00; text-decoration-color: #00af00\">10</span>)             │         <span style=\"color: #00af00; text-decoration-color: #00af00\">2,010</span> │\n",
              "└─────────────────────────────────┴────────────────────────┴───────────────┘\n",
              "</pre>\n"
            ]
          },
          "metadata": {}
        },
        {
          "output_type": "display_data",
          "data": {
            "text/plain": [
              "\u001b[1m Total params: \u001b[0m\u001b[38;5;34m159,010\u001b[0m (621.13 KB)\n"
            ],
            "text/html": [
              "<pre style=\"white-space:pre;overflow-x:auto;line-height:normal;font-family:Menlo,'DejaVu Sans Mono',consolas,'Courier New',monospace\"><span style=\"font-weight: bold\"> Total params: </span><span style=\"color: #00af00; text-decoration-color: #00af00\">159,010</span> (621.13 KB)\n",
              "</pre>\n"
            ]
          },
          "metadata": {}
        },
        {
          "output_type": "display_data",
          "data": {
            "text/plain": [
              "\u001b[1m Trainable params: \u001b[0m\u001b[38;5;34m159,010\u001b[0m (621.13 KB)\n"
            ],
            "text/html": [
              "<pre style=\"white-space:pre;overflow-x:auto;line-height:normal;font-family:Menlo,'DejaVu Sans Mono',consolas,'Courier New',monospace\"><span style=\"font-weight: bold\"> Trainable params: </span><span style=\"color: #00af00; text-decoration-color: #00af00\">159,010</span> (621.13 KB)\n",
              "</pre>\n"
            ]
          },
          "metadata": {}
        },
        {
          "output_type": "display_data",
          "data": {
            "text/plain": [
              "\u001b[1m Non-trainable params: \u001b[0m\u001b[38;5;34m0\u001b[0m (0.00 B)\n"
            ],
            "text/html": [
              "<pre style=\"white-space:pre;overflow-x:auto;line-height:normal;font-family:Menlo,'DejaVu Sans Mono',consolas,'Courier New',monospace\"><span style=\"font-weight: bold\"> Non-trainable params: </span><span style=\"color: #00af00; text-decoration-color: #00af00\">0</span> (0.00 B)\n",
              "</pre>\n"
            ]
          },
          "metadata": {}
        }
      ]
    },
    {
      "cell_type": "code",
      "source": [
        "model.compile(optimizer=\"adam\",loss=\"sparse_categorical_crossentropy\",metrics=[\"accuracy\"])"
      ],
      "metadata": {
        "id": "CRkBcTVRy31V"
      },
      "execution_count": 12,
      "outputs": []
    },
    {
      "cell_type": "code",
      "source": [
        "model.fit(x_train,y_train,epochs=20)"
      ],
      "metadata": {
        "colab": {
          "base_uri": "https://localhost:8080/"
        },
        "id": "suUDqQ-v0dqO",
        "outputId": "51c1c569-0ae3-4561-bedd-8c2534960a35"
      },
      "execution_count": 13,
      "outputs": [
        {
          "output_type": "stream",
          "name": "stdout",
          "text": [
            "Epoch 1/20\n",
            "\u001b[1m1875/1875\u001b[0m \u001b[32m━━━━━━━━━━━━━━━━━━━━\u001b[0m\u001b[37m\u001b[0m \u001b[1m11s\u001b[0m 5ms/step - accuracy: 0.7892 - loss: 0.6029\n",
            "Epoch 2/20\n",
            "\u001b[1m1875/1875\u001b[0m \u001b[32m━━━━━━━━━━━━━━━━━━━━\u001b[0m\u001b[37m\u001b[0m \u001b[1m11s\u001b[0m 6ms/step - accuracy: 0.8654 - loss: 0.3750\n",
            "Epoch 3/20\n",
            "\u001b[1m1875/1875\u001b[0m \u001b[32m━━━━━━━━━━━━━━━━━━━━\u001b[0m\u001b[37m\u001b[0m \u001b[1m19s\u001b[0m 5ms/step - accuracy: 0.8774 - loss: 0.3363\n",
            "Epoch 4/20\n",
            "\u001b[1m1875/1875\u001b[0m \u001b[32m━━━━━━━━━━━━━━━━━━━━\u001b[0m\u001b[37m\u001b[0m \u001b[1m10s\u001b[0m 6ms/step - accuracy: 0.8873 - loss: 0.3094\n",
            "Epoch 5/20\n",
            "\u001b[1m1875/1875\u001b[0m \u001b[32m━━━━━━━━━━━━━━━━━━━━\u001b[0m\u001b[37m\u001b[0m \u001b[1m20s\u001b[0m 5ms/step - accuracy: 0.8956 - loss: 0.2826\n",
            "Epoch 6/20\n",
            "\u001b[1m1875/1875\u001b[0m \u001b[32m━━━━━━━━━━━━━━━━━━━━\u001b[0m\u001b[37m\u001b[0m \u001b[1m10s\u001b[0m 5ms/step - accuracy: 0.8982 - loss: 0.2725\n",
            "Epoch 7/20\n",
            "\u001b[1m1875/1875\u001b[0m \u001b[32m━━━━━━━━━━━━━━━━━━━━\u001b[0m\u001b[37m\u001b[0m \u001b[1m11s\u001b[0m 5ms/step - accuracy: 0.9027 - loss: 0.2601\n",
            "Epoch 8/20\n",
            "\u001b[1m1875/1875\u001b[0m \u001b[32m━━━━━━━━━━━━━━━━━━━━\u001b[0m\u001b[37m\u001b[0m \u001b[1m10s\u001b[0m 5ms/step - accuracy: 0.9087 - loss: 0.2478\n",
            "Epoch 9/20\n",
            "\u001b[1m1875/1875\u001b[0m \u001b[32m━━━━━━━━━━━━━━━━━━━━\u001b[0m\u001b[37m\u001b[0m \u001b[1m10s\u001b[0m 5ms/step - accuracy: 0.9102 - loss: 0.2412\n",
            "Epoch 10/20\n",
            "\u001b[1m1875/1875\u001b[0m \u001b[32m━━━━━━━━━━━━━━━━━━━━\u001b[0m\u001b[37m\u001b[0m \u001b[1m10s\u001b[0m 5ms/step - accuracy: 0.9116 - loss: 0.2305\n",
            "Epoch 11/20\n",
            "\u001b[1m1875/1875\u001b[0m \u001b[32m━━━━━━━━━━━━━━━━━━━━\u001b[0m\u001b[37m\u001b[0m \u001b[1m9s\u001b[0m 5ms/step - accuracy: 0.9172 - loss: 0.2200\n",
            "Epoch 12/20\n",
            "\u001b[1m1875/1875\u001b[0m \u001b[32m━━━━━━━━━━━━━━━━━━━━\u001b[0m\u001b[37m\u001b[0m \u001b[1m9s\u001b[0m 5ms/step - accuracy: 0.9221 - loss: 0.2104\n",
            "Epoch 13/20\n",
            "\u001b[1m1875/1875\u001b[0m \u001b[32m━━━━━━━━━━━━━━━━━━━━\u001b[0m\u001b[37m\u001b[0m \u001b[1m11s\u001b[0m 5ms/step - accuracy: 0.9241 - loss: 0.2038\n",
            "Epoch 14/20\n",
            "\u001b[1m1875/1875\u001b[0m \u001b[32m━━━━━━━━━━━━━━━━━━━━\u001b[0m\u001b[37m\u001b[0m \u001b[1m11s\u001b[0m 6ms/step - accuracy: 0.9263 - loss: 0.1974\n",
            "Epoch 15/20\n",
            "\u001b[1m1875/1875\u001b[0m \u001b[32m━━━━━━━━━━━━━━━━━━━━\u001b[0m\u001b[37m\u001b[0m \u001b[1m20s\u001b[0m 5ms/step - accuracy: 0.9287 - loss: 0.1894\n",
            "Epoch 16/20\n",
            "\u001b[1m1875/1875\u001b[0m \u001b[32m━━━━━━━━━━━━━━━━━━━━\u001b[0m\u001b[37m\u001b[0m \u001b[1m10s\u001b[0m 5ms/step - accuracy: 0.9323 - loss: 0.1815\n",
            "Epoch 17/20\n",
            "\u001b[1m1875/1875\u001b[0m \u001b[32m━━━━━━━━━━━━━━━━━━━━\u001b[0m\u001b[37m\u001b[0m \u001b[1m10s\u001b[0m 5ms/step - accuracy: 0.9325 - loss: 0.1785\n",
            "Epoch 18/20\n",
            "\u001b[1m1875/1875\u001b[0m \u001b[32m━━━━━━━━━━━━━━━━━━━━\u001b[0m\u001b[37m\u001b[0m \u001b[1m10s\u001b[0m 5ms/step - accuracy: 0.9350 - loss: 0.1720\n",
            "Epoch 19/20\n",
            "\u001b[1m1875/1875\u001b[0m \u001b[32m━━━━━━━━━━━━━━━━━━━━\u001b[0m\u001b[37m\u001b[0m \u001b[1m9s\u001b[0m 5ms/step - accuracy: 0.9367 - loss: 0.1683\n",
            "Epoch 20/20\n",
            "\u001b[1m1875/1875\u001b[0m \u001b[32m━━━━━━━━━━━━━━━━━━━━\u001b[0m\u001b[37m\u001b[0m \u001b[1m10s\u001b[0m 5ms/step - accuracy: 0.9399 - loss: 0.1611\n"
          ]
        },
        {
          "output_type": "execute_result",
          "data": {
            "text/plain": [
              "<keras.src.callbacks.history.History at 0x7b96c74ecad0>"
            ]
          },
          "metadata": {},
          "execution_count": 13
        }
      ]
    },
    {
      "cell_type": "code",
      "source": [
        "y_predict=model.predict(x_test)"
      ],
      "metadata": {
        "colab": {
          "base_uri": "https://localhost:8080/"
        },
        "id": "gml2pE1v0jXY",
        "outputId": "25da1080-a102-4dd6-80f4-e81d471a4b5f"
      },
      "execution_count": 14,
      "outputs": [
        {
          "output_type": "stream",
          "name": "stdout",
          "text": [
            "\u001b[1m313/313\u001b[0m \u001b[32m━━━━━━━━━━━━━━━━━━━━\u001b[0m\u001b[37m\u001b[0m \u001b[1m1s\u001b[0m 2ms/step\n"
          ]
        }
      ]
    },
    {
      "cell_type": "code",
      "source": [
        "y_predict[217]"
      ],
      "metadata": {
        "colab": {
          "base_uri": "https://localhost:8080/"
        },
        "id": "A1ZZaLCK6Uin",
        "outputId": "c2407771-9ebc-4b46-e168-4c8b678739a7"
      },
      "execution_count": 15,
      "outputs": [
        {
          "output_type": "execute_result",
          "data": {
            "text/plain": [
              "array([1.7978486e-09, 1.2690217e-12, 2.5863186e-05, 4.0988737e-09,\n",
              "       1.4028372e-04, 2.3688150e-16, 9.9983382e-01, 1.9523514e-23,\n",
              "       1.2942068e-15, 6.1135064e-12], dtype=float32)"
            ]
          },
          "metadata": {},
          "execution_count": 15
        }
      ]
    },
    {
      "cell_type": "code",
      "source": [
        "plt.matshow(x_test[217])"
      ],
      "metadata": {
        "colab": {
          "base_uri": "https://localhost:8080/",
          "height": 455
        },
        "id": "sQQ2Uc2b6Z-u",
        "outputId": "35b208cf-f53c-4f6c-db37-e2ad5b6f721d"
      },
      "execution_count": 18,
      "outputs": [
        {
          "output_type": "execute_result",
          "data": {
            "text/plain": [
              "<matplotlib.image.AxesImage at 0x7b96a4a491d0>"
            ]
          },
          "metadata": {},
          "execution_count": 18
        },
        {
          "output_type": "display_data",
          "data": {
            "text/plain": [
              "<Figure size 480x480 with 1 Axes>"
            ],
            "image/png": "[encoded data removed]"
          },
          "metadata": {}
        }
      ]
    },
    {
      "cell_type": "code",
      "source": [],
      "metadata": {
        "id": "1PNBP_736tRi"
      },
      "execution_count": null,
      "outputs": []
    }
  ]
}